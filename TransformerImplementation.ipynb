{
 "cells": [
  {
   "cell_type": "code",
   "execution_count": 185,
   "metadata": {},
   "outputs": [],
   "source": [
    "import torch\n",
    "import torch.nn as nn\n",
    "import math"
   ]
  },
  {
   "cell_type": "code",
   "execution_count": 10,
   "metadata": {},
   "outputs": [],
   "source": [
    "encoder_layer = nn.TransformerEncoderLayer(d_model=512, nhead=8)"
   ]
  },
  {
   "cell_type": "code",
   "execution_count": 11,
   "metadata": {},
   "outputs": [],
   "source": [
    "transformer_encoder = nn.TransformerEncoder(encoder_layer, num_layers=6)"
   ]
  },
  {
   "cell_type": "code",
   "execution_count": 132,
   "metadata": {},
   "outputs": [],
   "source": [
    "src = torch.rand(32, 40, 768)"
   ]
  },
  {
   "cell_type": "code",
   "execution_count": 324,
   "metadata": {},
   "outputs": [],
   "source": [
    "class MultiHeadSelfAttn(nn.Module):\n",
    "    def __init__(self, in_features, out_features, heads=8):\n",
    "        '''\n",
    "        in_features: should be equal to the embedding_dimension\n",
    "        output: what the size of the output embedding should be\n",
    "        '''\n",
    "        \n",
    "        super(MultiHeadSelfAttn, self).__init__()\n",
    "        self.in_features = in_features\n",
    "        self.heads = heads\n",
    "        self.out_features = out_features\n",
    "        \n",
    "        # Make sure that in_features is compatible with the number of heads\n",
    "        assert in_features % heads == 0\n",
    "        \n",
    "        # dk is the size of each of the linear projections of the embedding\n",
    "        self.dk = in_features // 8\n",
    "        \n",
    "        # These are the parameters to project the matrix to the amount of heads\n",
    "        self.key_projections = nn.Linear(self.in_features, self.in_features)\n",
    "        self.value_projections = nn.Linear(self.in_features, self.in_features)\n",
    "        self.query_projections = nn.Linear(self.in_features, self.in_features)\n",
    "        \n",
    "        # The final linear layer\n",
    "        self.end_linear = nn.Linear(self.in_features, self.out_features)\n",
    "        \n",
    "        # Softmax\n",
    "        self.softmax = nn.Softmax(dim=1)\n",
    "        \n",
    "    def scaled_attention(self, head_query, head_keys, head_values):\n",
    "        # Calculate the scaled dot-product\n",
    "        attn = torch.matmul(head_query, head_keys.transpose(-2, -1)) / math.sqrt(self.dk)\n",
    "        \n",
    "        # Get the softmax\n",
    "        attn = self.softmax(attn)\n",
    "        \n",
    "        # Multiply the softmax output by the values\n",
    "        attn = torch.matmul(attn, head_values)\n",
    "        return attn\n",
    "        \n",
    "    def forward(self, embeddings):\n",
    "        '''\n",
    "        Forward propagate through the multi-head attention\n",
    "        embeddings: should be of dimensions (batch, sequence_length, embedding_dimension)\n",
    "        '''\n",
    "        \n",
    "        batches, sequence_length, embeddings_dim = embeddings.size()\n",
    "        \n",
    "        # Get the query projections\n",
    "        query = self.query_projections(embeddings)\n",
    "        query = query.view(batches, self.heads, sequence_length, self.dk)\n",
    "        \n",
    "        # Get the key projections\n",
    "        keys = self.key_projections(embeddings)\n",
    "        keys = keys.view(batches, self.heads, sequence_length, self.dk)\n",
    "        \n",
    "        # Get the value projections\n",
    "        values = self.value_projections(embeddings)\n",
    "        values = values.view(batches, self.heads, sequence_length, self.dk)\n",
    "        \n",
    "        # Calculated the scaled dot-product attention\n",
    "        attn_out = self.scaled_attention(query, keys, values)\n",
    "        \n",
    "        # Put it in dimensions (batches, sequence_length, in_features)\n",
    "        attn_out = attn_out.view(batches, sequence_length, self.in_features)\n",
    "        \n",
    "        # Apply the final linear layer\n",
    "        return self.end_linear(attn_out)\n",
    "        "
   ]
  },
  {
   "cell_type": "code",
   "execution_count": 325,
   "metadata": {},
   "outputs": [
    {
     "data": {
      "text/plain": [
       "torch.Size([32, 40, 768])"
      ]
     },
     "execution_count": 325,
     "metadata": {},
     "output_type": "execute_result"
    }
   ],
   "source": [
    "multi_attn = MultiHeadSelfAttn(768, 768)\n",
    "x = torch.randn(32, 40, 768)\n",
    "multi_attn(x).size()"
   ]
  },
  {
   "cell_type": "code",
   "execution_count": 336,
   "metadata": {},
   "outputs": [],
   "source": [
    "class PositionWiseFeedForward(nn.Module):\n",
    "    def __init__(self, in_features, inner_features, out_features, dropout=0.1):\n",
    "        super(PositionWiseFeedForward, self).__init__()\n",
    "        self.in_features = in_features\n",
    "        self.inner_features = inner_features\n",
    "        self.out_features = out_features\n",
    "        \n",
    "        # First linear layer goes from the in_features to inner_features dimension\n",
    "        self.fc1 = nn.Linear(in_features, inner_features)\n",
    "        \n",
    "        # Second linear layer goes from inner_features to out_features\n",
    "        self.fc2 = nn.Linear(inner_features, out_features)\n",
    "        self.relu = nn.ReLU()\n",
    "        self.dropout = nn.Dropout(dropout)\n",
    "        \n",
    "    def forward(self, x):\n",
    "        '''\n",
    "        Forward propagate through the Feed-Forward network\n",
    "        '''\n",
    "        \n",
    "        x = self.fc1(x)\n",
    "        x = self.dropout(x)\n",
    "        x = self.fc2(x)\n",
    "        x = self.dropout(x)\n",
    "        return x"
   ]
  },
  {
   "cell_type": "code",
   "execution_count": 337,
   "metadata": {},
   "outputs": [
    {
     "data": {
      "text/plain": [
       "torch.Size([32, 40, 768])"
      ]
     },
     "execution_count": 337,
     "metadata": {},
     "output_type": "execute_result"
    }
   ],
   "source": [
    "feed_forward = PositionWiseFeedForward(768, 2560, 768)\n",
    "x = torch.randn(32, 40, 768)\n",
    "feed_forward(x).size()"
   ]
  },
  {
   "cell_type": "code",
   "execution_count": null,
   "metadata": {},
   "outputs": [],
   "source": []
  }
 ],
 "metadata": {
  "kernelspec": {
   "display_name": "Python 3",
   "language": "python",
   "name": "python3"
  },
  "language_info": {
   "codemirror_mode": {
    "name": "ipython",
    "version": 3
   },
   "file_extension": ".py",
   "mimetype": "text/x-python",
   "name": "python",
   "nbconvert_exporter": "python",
   "pygments_lexer": "ipython3",
   "version": "3.7.9"
  }
 },
 "nbformat": 4,
 "nbformat_minor": 4
}
