{
 "cells": [
  {
   "cell_type": "code",
   "execution_count": 185,
   "metadata": {},
   "outputs": [],
   "source": [
    "import torch\n",
    "import torch.nn as nn\n",
    "import math"
   ]
  },
  {
   "cell_type": "code",
   "execution_count": 10,
   "metadata": {},
   "outputs": [],
   "source": [
    "encoder_layer = nn.TransformerEncoderLayer(d_model=512, nhead=8)"
   ]
  },
  {
   "cell_type": "code",
   "execution_count": 11,
   "metadata": {},
   "outputs": [],
   "source": [
    "transformer_encoder = nn.TransformerEncoder(encoder_layer, num_layers=6)"
   ]
  },
  {
   "cell_type": "code",
   "execution_count": 132,
   "metadata": {},
   "outputs": [],
   "source": [
    "src = torch.rand(32, 40, 768)"
   ]
  },
  {
   "cell_type": "code",
   "execution_count": 225,
   "metadata": {},
   "outputs": [],
   "source": [
    "class MultiHeadSelfAttn(nn.Module):\n",
    "    def __init__(self, dmodel, output_dim, heads=8):\n",
    "        '''\n",
    "        dmodel: should be equal to the embedding_dimension\n",
    "        output: what the size of the output embedding should be (default is same as dmodel)\n",
    "        '''\n",
    "        \n",
    "        super(MultiHeadSelfAttn, self).__init__()\n",
    "        self.dmodel = dmodel\n",
    "        self.heads = heads\n",
    "        self.output_dim = output_dim\n",
    "        assert dmodel % heads == 0\n",
    "        \n",
    "        # dk is the size of each of the linear projections of the embedding\n",
    "        self.dk = dmodel // 8\n",
    "        \n",
    "        # These are the parameters to project the matrix to the amount of heads\n",
    "        self.key_projections = nn.Linear(self.dmodel, self.dmodel)\n",
    "        self.value_projections = nn.Linear(self.dmodel, self.dmodel)\n",
    "        self.query_projections = nn.Linear(self.dmodel, self.dmodel)\n",
    "        \n",
    "        # The final linear layer\n",
    "        self.end_linear = nn.Linear(self.dmodel, self.output_dim)\n",
    "        \n",
    "        # Softmax\n",
    "        self.softmax = nn.Softmax(dim=1)\n",
    "        \n",
    "    def scaled_attention(self, query, keys, values):\n",
    "        attn = torch.matmul(query, keys.transpose(-2, -1))\n",
    "        attn = attn / math.sqrt(self.dk)\n",
    "        attn = self.softmax(attn)\n",
    "        attn = torch.matmul(attn.transpose(-2, -1), values)\n",
    "        return attn\n",
    "        \n",
    "    def forward(self, embeddings):\n",
    "        '''\n",
    "        embeddings: should be of dimensions (batch, sequence_length, embedding_dimension)\n",
    "        '''\n",
    "        batches, sequence_length, embeddings_dim = embeddings.size()\n",
    "        \n",
    "        # Get the query projections\n",
    "        query = self.query_projections(embeddings)\n",
    "        query = query.view(batches, self.heads, sequence_length, self.dk)\n",
    "        \n",
    "        # Get the key projections\n",
    "        keys = self.key_projections(embeddings)\n",
    "        keys = keys.view(batches, self.heads, sequence_length, self.dk)\n",
    "        \n",
    "        # Get the value projections\n",
    "        values = self.value_projections(embeddings)\n",
    "        values = values.view(batches, self.heads, sequence_length, self.dk)\n",
    "        \n",
    "        attn_out = self.scaled_attention(query, keys, values)\n",
    "        attn_out = attn_out.view(batches, sequence_length, self.dmodel)\n",
    "        \n",
    "        return self.end_linear(attn_out)\n",
    "        "
   ]
  },
  {
   "cell_type": "code",
   "execution_count": 226,
   "metadata": {},
   "outputs": [],
   "source": [
    "multi_attn = MultiHeadSelfAttn(768, 768)"
   ]
  },
  {
   "cell_type": "code",
   "execution_count": 227,
   "metadata": {},
   "outputs": [],
   "source": [
    "x = torch.randn(32, 40, 768)"
   ]
  },
  {
   "cell_type": "code",
   "execution_count": 229,
   "metadata": {},
   "outputs": [
    {
     "data": {
      "text/plain": [
       "torch.Size([32, 40, 768])"
      ]
     },
     "execution_count": 229,
     "metadata": {},
     "output_type": "execute_result"
    }
   ],
   "source": [
    "multi_attn(x).size()"
   ]
  },
  {
   "cell_type": "code",
   "execution_count": null,
   "metadata": {},
   "outputs": [],
   "source": []
  }
 ],
 "metadata": {
  "kernelspec": {
   "display_name": "Python 3",
   "language": "python",
   "name": "python3"
  },
  "language_info": {
   "codemirror_mode": {
    "name": "ipython",
    "version": 3
   },
   "file_extension": ".py",
   "mimetype": "text/x-python",
   "name": "python",
   "nbconvert_exporter": "python",
   "pygments_lexer": "ipython3",
   "version": "3.7.9"
  }
 },
 "nbformat": 4,
 "nbformat_minor": 4
}
